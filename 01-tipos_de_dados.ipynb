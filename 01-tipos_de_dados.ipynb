{
  "cells": [
    {
      "cell_type": "markdown",
      "source": [
        "Adendo feito por Rubens aluno"
      ],
      "metadata": {
        "id": "Tk0uwj-oeI25"
      }
    },
    {
      "cell_type": "code",
      "source": [
        "for numero in range(10):\n",
        "  print(numero)"
      ],
      "metadata": {
        "colab": {
          "base_uri": "https://localhost:8080/"
        },
        "id": "RZhjMGo7eYKQ",
        "outputId": "d060c91d-024d-434a-fe22-accd7137a50b"
      },
      "execution_count": 1,
      "outputs": [
        {
          "output_type": "stream",
          "name": "stdout",
          "text": [
            "0\n",
            "1\n",
            "2\n",
            "3\n",
            "4\n",
            "5\n",
            "6\n",
            "7\n",
            "8\n",
            "9\n"
          ]
        }
      ]
    },
    {
      "cell_type": "markdown",
      "source": [],
      "metadata": {
        "id": "kybX_wPhd_pp"
      }
    },
    {
      "cell_type": "markdown",
      "metadata": {
        "id": "9a4dRct_cBZq"
      },
      "source": [
        "# Tipos de dados"
      ]
    },
    {
      "cell_type": "markdown",
      "metadata": {
        "id": "bMZx18ILcBZx"
      },
      "source": [
        "Em Python (e outras linguagens de programação), os dados e valores podem ser de diferentes **tipos** (também chamados de **classes**). O tipo determina quais operações/manipulações podem ser feitas com um valor (que também pode ser chamado de **objeto."
      ]
    },
    {
      "cell_type": "markdown",
      "metadata": {
        "id": "P6leUwCVcBZy"
      },
      "source": [
        "Os tipos de dados básicos (ou **primitivos**) em python são:\n",
        "   - **String** (str) - Sequência de caracteres alfanuméricos (texto). Ex: \"banana\", \"Área 51\", \"1991\"\n",
        "   - **Integer** (int) - Números inteiros. Ex: 20, 150, -36\n",
        "   - **Float** (float) - Números com casas decimais. Ex: 4.5, -0.05, 1024.0\n",
        "   - **Booleano** (bool) - Dois valores: True ou False"
      ]
    },
    {
      "cell_type": "markdown",
      "metadata": {
        "id": "Y-TgxGBRcBZ0"
      },
      "source": [
        "A função *type* nos diz qual o tipo/classe de um valor:"
      ]
    },
    {
      "cell_type": "code",
      "execution_count": null,
      "metadata": {
        "id": "MAdiJc2mcBZ1",
        "outputId": "ec807f88-971c-474c-d95e-f6f1aa560e7f"
      },
      "outputs": [
        {
          "name": "stdout",
          "output_type": "stream",
          "text": [
            "1: <class 'str'>\n",
            "2: <class 'str'>\n",
            "3: <class 'int'>\n",
            "4: <class 'float'>\n",
            "5: <class 'bool'>\n"
          ]
        }
      ],
      "source": [
        "print(\"1:\", type(\"palavra\"))\n",
        "\n",
        "print(\"2:\", type(\"42\")) #Uso de aspas - tipo string\n",
        "\n",
        "print(\"3:\", type(42))\n",
        "\n",
        "print(\"4:\", type(42.0))\n",
        "\n",
        "print(\"5:\", type(True))"
      ]
    },
    {
      "cell_type": "markdown",
      "metadata": {
        "id": "T_KC9L77cBZ5"
      },
      "source": [
        "Um mesmo valor pode ser representado como, por exemplo, uma *string* ou um *integer*, como o valor 42 no exemplo acima. A classe desse valor altera sua manipulação:"
      ]
    },
    {
      "cell_type": "code",
      "execution_count": null,
      "metadata": {
        "id": "-di_kq8bcBZ5",
        "outputId": "62444cf3-8739-42aa-d8f3-f5333f298743"
      },
      "outputs": [
        {
          "data": {
            "text/plain": [
              "84"
            ]
          },
          "execution_count": 7,
          "metadata": {},
          "output_type": "execute_result"
        }
      ],
      "source": [
        "# Somando dois integers\n",
        "42 + 42"
      ]
    },
    {
      "cell_type": "code",
      "execution_count": null,
      "metadata": {
        "id": "xHiF-lRTcBZ6",
        "outputId": "4df2e3f4-5588-41de-fe6a-2665c0e65441"
      },
      "outputs": [
        {
          "data": {
            "text/plain": [
              "'4242'"
            ]
          },
          "execution_count": 8,
          "metadata": {},
          "output_type": "execute_result"
        }
      ],
      "source": [
        "# Somando duas strings\n",
        "\"42\" + \"42\""
      ]
    },
    {
      "cell_type": "code",
      "execution_count": null,
      "metadata": {
        "id": "QxQ0ah9xcBZ7",
        "outputId": "9ead4afb-b42d-401b-bdf6-f5925126fff9"
      },
      "outputs": [
        {
          "ename": "TypeError",
          "evalue": "unsupported operand type(s) for +: 'int' and 'str'",
          "output_type": "error",
          "traceback": [
            "\u001b[0;31m---------------------------------------------------------------------------\u001b[0m",
            "\u001b[0;31mTypeError\u001b[0m                                 Traceback (most recent call last)",
            "\u001b[0;32m<ipython-input-9-a8b2ceb021f3>\u001b[0m in \u001b[0;36m<module>\u001b[0;34m\u001b[0m\n\u001b[1;32m      1\u001b[0m \u001b[0;31m# Somando um integer e uma string\u001b[0m\u001b[0;34m\u001b[0m\u001b[0;34m\u001b[0m\u001b[0;34m\u001b[0m\u001b[0m\n\u001b[0;32m----> 2\u001b[0;31m \u001b[0;36m42\u001b[0m \u001b[0;34m+\u001b[0m \u001b[0;34m\"42\"\u001b[0m\u001b[0;34m\u001b[0m\u001b[0;34m\u001b[0m\u001b[0m\n\u001b[0m",
            "\u001b[0;31mTypeError\u001b[0m: unsupported operand type(s) for +: 'int' and 'str'"
          ]
        }
      ],
      "source": [
        "# Somando um integer e uma string\n",
        "42 + \"42\""
      ]
    },
    {
      "cell_type": "markdown",
      "metadata": {
        "id": "fB67AjdncBZ7"
      },
      "source": [
        "**OBS:** Repare que nas células de código acima, comentários foram adicionados sem atrapalhar a operação da célula. Isso é feito ao se adicionar um `#` antes do comentário. O Python ignorará qualquer coisa escrita após o `#`."
      ]
    },
    {
      "cell_type": "code",
      "execution_count": null,
      "metadata": {
        "id": "5RYQIpGkcBZ8"
      },
      "outputs": [],
      "source": [
        "# Isso será ignorado"
      ]
    },
    {
      "cell_type": "code",
      "execution_count": null,
      "metadata": {
        "id": "0Uhao_f7cBZ8",
        "outputId": "337922dd-1e75-4b5c-923e-3287b764b0d3"
      },
      "outputs": [
        {
          "ename": "SyntaxError",
          "evalue": "invalid syntax (<ipython-input-14-d51c4a86f11f>, line 2)",
          "output_type": "error",
          "traceback": [
            "\u001b[0;36m  File \u001b[0;32m\"<ipython-input-14-d51c4a86f11f>\"\u001b[0;36m, line \u001b[0;32m2\u001b[0m\n\u001b[0;31m    Isso não será ignorado e dará um erro\u001b[0m\n\u001b[0m         ^\u001b[0m\n\u001b[0;31mSyntaxError\u001b[0m\u001b[0;31m:\u001b[0m invalid syntax\n"
          ]
        }
      ],
      "source": [
        "# Isso será ignorado\n",
        "Isso não será ignorado e dará um erro"
      ]
    },
    {
      "cell_type": "code",
      "execution_count": null,
      "metadata": {
        "id": "NWH775TDcBZ9"
      },
      "outputs": [],
      "source": [
        "# Isso será ignorado\n",
        "# Isso não será ignorado e dará um erro"
      ]
    },
    {
      "cell_type": "markdown",
      "metadata": {
        "id": "l29LXmH7cBZ9"
      },
      "source": [
        "## Conversão de tipos"
      ]
    },
    {
      "cell_type": "markdown",
      "metadata": {
        "id": "qaoWyGNNcBZ9"
      },
      "source": [
        "Geralmente, também é possível converter dados de um tipo para outro. Por exemplo, o erro acima não aconteceria se convertêssemos o texto (string) para um número inteiro (integer). Para isso, usamos a função **int**:"
      ]
    },
    {
      "cell_type": "code",
      "execution_count": null,
      "metadata": {
        "id": "LpXj4e0FcBZ-",
        "outputId": "01db4c52-0d2a-48f8-a618-1ad0fd32b2a1"
      },
      "outputs": [
        {
          "data": {
            "text/plain": [
              "84"
            ]
          },
          "execution_count": 10,
          "metadata": {},
          "output_type": "execute_result"
        }
      ],
      "source": [
        "# Somando um inteiro e uma string convertida em inteiro\n",
        "42 + int(\"42\")"
      ]
    },
    {
      "cell_type": "markdown",
      "metadata": {
        "id": "ehs0OLXJcBZ-"
      },
      "source": [
        "As funções de conversão dos principais tipos são:\n",
        "  - **int**: Converte um valor para integer (inteiro)\n",
        "  - **str**: Converte um valor para string (texto)\n",
        "  - **float**: Converte um valor para float (decimal)\n",
        "  - **bool**: Converte um valor para booleano (verdadeiro ou falso)"
      ]
    },
    {
      "cell_type": "code",
      "execution_count": null,
      "metadata": {
        "id": "-l5I2DXAcBZ-",
        "outputId": "8c6ca7da-65f8-40b2-e0cb-462a6a386763"
      },
      "outputs": [
        {
          "name": "stdout",
          "output_type": "stream",
          "text": [
            "<class 'float'>\n",
            "<class 'int'>\n",
            "<class 'str'>\n",
            "<class 'bool'>\n"
          ]
        }
      ],
      "source": [
        "print(type(42.0),)\n",
        "\n",
        "print(type(int(42.0)))\n",
        "\n",
        "print(type(str(42.0)))\n",
        "\n",
        "print(type(bool(42.0)))"
      ]
    },
    {
      "cell_type": "code",
      "execution_count": null,
      "metadata": {
        "id": "AhLXUcm5cBZ_",
        "outputId": "7d5c8591-05bc-48e4-d6bf-1f6939684a0a"
      },
      "outputs": [
        {
          "ename": "ValueError",
          "evalue": "invalid literal for int() with base 10: 'A'",
          "output_type": "error",
          "traceback": [
            "\u001b[0;31m---------------------------------------------------------------------------\u001b[0m",
            "\u001b[0;31mValueError\u001b[0m                                Traceback (most recent call last)",
            "\u001b[0;32m<ipython-input-17-21af31cf4c90>\u001b[0m in \u001b[0;36m<module>\u001b[0;34m\u001b[0m\n\u001b[1;32m      1\u001b[0m \u001b[0;31m#Nem todas as conversões são possíveis...\u001b[0m\u001b[0;34m\u001b[0m\u001b[0;34m\u001b[0m\u001b[0;34m\u001b[0m\u001b[0m\n\u001b[0;32m----> 2\u001b[0;31m \u001b[0mint\u001b[0m\u001b[0;34m(\u001b[0m\u001b[0;34m\"A\"\u001b[0m\u001b[0;34m)\u001b[0m\u001b[0;34m\u001b[0m\u001b[0;34m\u001b[0m\u001b[0m\n\u001b[0m",
            "\u001b[0;31mValueError\u001b[0m: invalid literal for int() with base 10: 'A'"
          ]
        }
      ],
      "source": [
        "#Nem todas as conversões são possíveis...\n",
        "int(\"A\")"
      ]
    },
    {
      "cell_type": "markdown",
      "metadata": {
        "id": "WuIG_593cBZ_"
      },
      "source": [
        "## Números - Integer/Floats"
      ]
    },
    {
      "cell_type": "markdown",
      "metadata": {
        "id": "uJN29Q0XcBZ_"
      },
      "source": [
        "### Aritmética básica"
      ]
    },
    {
      "cell_type": "code",
      "execution_count": null,
      "metadata": {
        "id": "A5IFV0ZEcBZ_",
        "outputId": "75e41d70-0887-4e7c-81fc-9eea7af9d98f"
      },
      "outputs": [
        {
          "data": {
            "text/plain": [
              "4"
            ]
          },
          "execution_count": 26,
          "metadata": {},
          "output_type": "execute_result"
        }
      ],
      "source": [
        "# Adição\n",
        "2+3################################"
      ]
    },
    {
      "cell_type": "code",
      "execution_count": null,
      "metadata": {
        "id": "mN9FA2h1cBaA",
        "outputId": "6ccf7507-118a-4c38-f841-c9753aa23d3f"
      },
      "outputs": [
        {
          "data": {
            "text/plain": [
              "0"
            ]
          },
          "execution_count": 27,
          "metadata": {},
          "output_type": "execute_result"
        }
      ],
      "source": [
        "# Subtração\n",
        "2-3"
      ]
    },
    {
      "cell_type": "code",
      "execution_count": null,
      "metadata": {
        "id": "PB-9hoYQcBaA",
        "outputId": "2cce35d8-a102-45a2-89b7-94e47ffe6200"
      },
      "outputs": [
        {
          "data": {
            "text/plain": [
              "4"
            ]
          },
          "execution_count": 28,
          "metadata": {},
          "output_type": "execute_result"
        }
      ],
      "source": [
        "# Multiplicação\n",
        "2*3"
      ]
    },
    {
      "cell_type": "code",
      "execution_count": null,
      "metadata": {
        "id": "AToI7k6zcBaA",
        "outputId": "ec669926-83d6-4e7f-c0f1-0b7b88a13ec0"
      },
      "outputs": [
        {
          "data": {
            "text/plain": [
              "3.5"
            ]
          },
          "execution_count": 32,
          "metadata": {},
          "output_type": "execute_result"
        }
      ],
      "source": [
        "# Divisão\n",
        "7/2"
      ]
    },
    {
      "cell_type": "code",
      "execution_count": null,
      "metadata": {
        "id": "DT9O_nHucBaA",
        "outputId": "138bed65-e0b3-4219-d544-1ed59b61804c"
      },
      "outputs": [
        {
          "data": {
            "text/plain": [
              "3"
            ]
          },
          "execution_count": 33,
          "metadata": {},
          "output_type": "execute_result"
        }
      ],
      "source": [
        "# Floor division\n",
        "# Retorna o maior inteiro possível sem arredondar pra cima\n",
        "7//2"
      ]
    },
    {
      "cell_type": "code",
      "execution_count": null,
      "metadata": {
        "id": "ZeFj2HWCcBaB",
        "outputId": "af5262f2-f9a7-4c91-d7fb-2da350a8f44f"
      },
      "outputs": [
        {
          "data": {
            "text/plain": [
              "1"
            ]
          },
          "execution_count": 34,
          "metadata": {},
          "output_type": "execute_result"
        }
      ],
      "source": [
        "# Resto\n",
        "7%2"
      ]
    },
    {
      "cell_type": "code",
      "execution_count": null,
      "metadata": {
        "id": "RrKN8Lg0cBaB",
        "outputId": "3d67e5ae-d2d7-4500-c21f-2e9dce920238"
      },
      "outputs": [
        {
          "data": {
            "text/plain": [
              "8"
            ]
          },
          "execution_count": 35,
          "metadata": {},
          "output_type": "execute_result"
        }
      ],
      "source": [
        "# Potência\n",
        "2**3"
      ]
    },
    {
      "cell_type": "code",
      "execution_count": null,
      "metadata": {
        "id": "GSwpRSafcBaB",
        "outputId": "ea5fc8e5-2b72-43e1-d186-364b7690d7c8"
      },
      "outputs": [
        {
          "data": {
            "text/plain": [
              "4.0"
            ]
          },
          "execution_count": 37,
          "metadata": {},
          "output_type": "execute_result"
        }
      ],
      "source": [
        "# Raiz quadrada\n",
        "16**0.5"
      ]
    },
    {
      "cell_type": "markdown",
      "metadata": {
        "id": "cu4o8kNGcBaC"
      },
      "source": [
        "### Operadores matemáticos e Precedência"
      ]
    },
    {
      "cell_type": "markdown",
      "metadata": {
        "id": "hpC6hYdpcBaC"
      },
      "source": [
        "Python também lida com equações"
      ]
    },
    {
      "cell_type": "code",
      "execution_count": null,
      "metadata": {
        "id": "zijOnJbdcBaC",
        "outputId": "42705e4c-af61-498f-dfec-fc910a3278ea"
      },
      "outputs": [
        {
          "data": {
            "text/plain": [
              "11"
            ]
          },
          "execution_count": 40,
          "metadata": {},
          "output_type": "execute_result"
        }
      ],
      "source": [
        "2 + 3 * 3"
      ]
    },
    {
      "cell_type": "markdown",
      "metadata": {
        "id": "ns783-iIcBaC"
      },
      "source": [
        "Repare que a soma, apesar de ser a primeira operação da equação, é efetuada depois da multiplicação. Isso ocorre porque Python (e a matemática, de forma geral) segue uma **ordem de precedência das operações**."
      ]
    },
    {
      "cell_type": "markdown",
      "metadata": {
        "id": "tfUbzWAscBaD"
      },
      "source": [
        "A ordem de precedência é comumente chamada de **PEMDAS**:\n",
        "\n",
        "- **P**   Parênteses, daí\n",
        "- **E**   Expoentes, daí\n",
        "- **MD**  Multiplicação e divisão, da esquerda para a direita, daí\n",
        "- **AS** Adição e subtração, da esquerda para a direita"
      ]
    },
    {
      "cell_type": "markdown",
      "metadata": {
        "id": "ud9vWkUZcBaD"
      },
      "source": [
        "Logo, para executar as operações na ordem desejada, precisamos utilizar **parênteses**"
      ]
    },
    {
      "cell_type": "code",
      "execution_count": null,
      "metadata": {
        "id": "vJiiM7jDcBaD",
        "outputId": "d59b8148-78ff-4f35-da96-9bcd1bfbd905"
      },
      "outputs": [
        {
          "data": {
            "text/plain": [
              "15"
            ]
          },
          "execution_count": 41,
          "metadata": {},
          "output_type": "execute_result"
        }
      ],
      "source": [
        "(2 + 3) * 3 * 3"
      ]
    },
    {
      "cell_type": "code",
      "execution_count": null,
      "metadata": {
        "id": "wEc_U0dqcBaD",
        "outputId": "856c09dd-3a48-424f-af63-052591e1bd26"
      },
      "outputs": [
        {
          "data": {
            "text/plain": [
              "18"
            ]
          },
          "execution_count": 45,
          "metadata": {},
          "output_type": "execute_result"
        }
      ],
      "source": [
        "# Sem parênteses\n",
        "5 + 2 * 3 + 7"
      ]
    },
    {
      "cell_type": "code",
      "execution_count": null,
      "metadata": {
        "id": "pgUOjYWEcBaD",
        "outputId": "258abe4c-43fa-4bce-de94-ae814ae3af76"
      },
      "outputs": [
        {
          "data": {
            "text/plain": [
              "70"
            ]
          },
          "execution_count": 46,
          "metadata": {},
          "output_type": "execute_result"
        }
      ],
      "source": [
        "# Com parênteses\n",
        "(5 + 2) * (3 + 7)"
      ]
    },
    {
      "cell_type": "markdown",
      "metadata": {
        "id": "i9We83sDcBaE"
      },
      "source": [
        "De maneira geral, os floats (decimais) se comportam de forma bem similar aos integers:"
      ]
    },
    {
      "cell_type": "code",
      "execution_count": null,
      "metadata": {
        "id": "EGMwNPdgcBaL",
        "outputId": "991cc837-d3d5-4974-9c5c-205ba3f72e46"
      },
      "outputs": [
        {
          "data": {
            "text/plain": [
              "5.5"
            ]
          },
          "execution_count": 54,
          "metadata": {},
          "output_type": "execute_result"
        }
      ],
      "source": [
        "1.0 + 4.5"
      ]
    },
    {
      "cell_type": "code",
      "execution_count": null,
      "metadata": {
        "id": "NEJ8QHIBcBaM",
        "outputId": "31d56899-1c1d-4064-98bb-4e2bd78ab45b"
      },
      "outputs": [
        {
          "data": {
            "text/plain": [
              "3.0"
            ]
          },
          "execution_count": 55,
          "metadata": {},
          "output_type": "execute_result"
        }
      ],
      "source": [
        "1.5 * 2"
      ]
    },
    {
      "cell_type": "markdown",
      "metadata": {
        "id": "WGAle6YncBaM"
      },
      "source": [
        "Obs: Uma operação entre um integer e um float gera um float:"
      ]
    },
    {
      "cell_type": "code",
      "execution_count": null,
      "metadata": {
        "id": "cctiXLZAcBaN",
        "outputId": "afe41b03-5b84-4fb2-9c5d-9c0e0d8749bb"
      },
      "outputs": [
        {
          "name": "stdout",
          "output_type": "stream",
          "text": [
            "<class 'int'>\n",
            "<class 'float'>\n",
            "<class 'float'>\n"
          ]
        }
      ],
      "source": [
        "print(type(10))\n",
        "print(type(2.5))\n",
        "print(type(10 * 2.5))"
      ]
    },
    {
      "cell_type": "markdown",
      "metadata": {
        "id": "gjNd1TpgcBaN"
      },
      "source": [
        "## Texto - Strings"
      ]
    },
    {
      "cell_type": "markdown",
      "metadata": {
        "id": "36yC5iwFcBaN"
      },
      "source": [
        "Para criar uma string em Python, é necessário usar aspas duplas (\" \") ou simples (' '):"
      ]
    },
    {
      "cell_type": "code",
      "execution_count": null,
      "metadata": {
        "id": "CobG-ijQcBaO",
        "outputId": "642a93d9-2835-4207-e217-fc8d622f7bd6"
      },
      "outputs": [
        {
          "data": {
            "text/plain": [
              "'Olá!'"
            ]
          },
          "execution_count": 2,
          "metadata": {},
          "output_type": "execute_result"
        }
      ],
      "source": [
        "# Uma única palavra:\n",
        "'Olá!'"
      ]
    },
    {
      "cell_type": "code",
      "execution_count": null,
      "metadata": {
        "id": "qabsQAZ5cBaO",
        "outputId": "81aa59e5-9615-4520-bbdd-c1708c83abb5"
      },
      "outputs": [
        {
          "data": {
            "text/plain": [
              "'Essa frase também é uma string'"
            ]
          },
          "execution_count": 3,
          "metadata": {},
          "output_type": "execute_result"
        }
      ],
      "source": [
        "# Frase intieira:\n",
        "'Essa frase também é uma string'"
      ]
    },
    {
      "cell_type": "code",
      "execution_count": null,
      "metadata": {
        "id": "K7J3dDJBcBaO",
        "outputId": "3a0edab0-4ff0-4ebf-f4fb-3811a3472bb3"
      },
      "outputs": [
        {
          "data": {
            "text/plain": [
              "'String feita com aspas duplas'"
            ]
          },
          "execution_count": 4,
          "metadata": {},
          "output_type": "execute_result"
        }
      ],
      "source": [
        "# Podemos também usar aspas duplas:\n",
        "\"String feita com aspas duplas\""
      ]
    },
    {
      "cell_type": "code",
      "execution_count": null,
      "metadata": {
        "id": "nfeIckARcBaP",
        "outputId": "7d7f591a-af3a-4794-c1c3-ddd9f40036f3"
      },
      "outputs": [
        {
          "ename": "SyntaxError",
          "evalue": "invalid syntax (<ipython-input-5-a2709dafa8fc>, line 2)",
          "output_type": "error",
          "traceback": [
            "\u001b[0;36m  File \u001b[0;32m\"<ipython-input-5-a2709dafa8fc>\"\u001b[0;36m, line \u001b[0;32m2\u001b[0m\n\u001b[0;31m    'Hoje vou consertar minha caixa d'água'\u001b[0m\n\u001b[0m                                      ^\u001b[0m\n\u001b[0;31mSyntaxError\u001b[0m\u001b[0;31m:\u001b[0m invalid syntax\n"
          ]
        }
      ],
      "source": [
        "# Cuidado com as aspas simples\n",
        "'Hoje vou limpar minha caixa d'água'"
      ]
    },
    {
      "cell_type": "markdown",
      "metadata": {
        "id": "cKMGt5N2cBaP"
      },
      "source": [
        "O erro aconteceu por causa das aspas simples em `d'água`, que parou a string antes do esperado. É possível usar então as aspas duplas para evitar esse problema e obter a frase inteira."
      ]
    },
    {
      "cell_type": "code",
      "execution_count": null,
      "metadata": {
        "id": "vFT1JOhIcBaP",
        "outputId": "b861bdb4-4453-4ca0-acd7-a7b2e5af0d12"
      },
      "outputs": [
        {
          "data": {
            "text/plain": [
              "\"Hoje vou limpar minha caixa d'água\""
            ]
          },
          "execution_count": 6,
          "metadata": {},
          "output_type": "execute_result"
        }
      ],
      "source": [
        "\"Hoje vou limpar minha caixa d'água\""
      ]
    },
    {
      "cell_type": "markdown",
      "metadata": {
        "id": "VlMdKWllcBaQ"
      },
      "source": [
        "Mas nunca use aspas duplas para fechar uma string iniciada com aspas simples (e vice-versa)"
      ]
    },
    {
      "cell_type": "code",
      "execution_count": null,
      "metadata": {
        "id": "kFG3StxRcBaQ",
        "outputId": "6a25990b-aad6-41e7-a816-0a0f5654f79e"
      },
      "outputs": [
        {
          "ename": "SyntaxError",
          "evalue": "EOL while scanning string literal (<ipython-input-9-1bb7b8cb91d6>, line 1)",
          "output_type": "error",
          "traceback": [
            "\u001b[0;36m  File \u001b[0;32m\"<ipython-input-9-1bb7b8cb91d6>\"\u001b[0;36m, line \u001b[0;32m1\u001b[0m\n\u001b[0;31m    'Frase iniciada com aspas simples e fechada com aspas duplas\"\u001b[0m\n\u001b[0m                                                                 ^\u001b[0m\n\u001b[0;31mSyntaxError\u001b[0m\u001b[0;31m:\u001b[0m EOL while scanning string literal\n"
          ]
        }
      ],
      "source": [
        "'Frase iniciada com aspas simples e fechada com aspas duplas\""
      ]
    },
    {
      "cell_type": "markdown",
      "metadata": {
        "id": "-bPgpr0RcBaQ"
      },
      "source": [
        "### Imprimindo uma string (função print)"
      ]
    },
    {
      "cell_type": "markdown",
      "metadata": {
        "id": "U7DQaIYqcBaR"
      },
      "source": [
        "No Jupyter notebook, uma célula com uma string irá automaticamente imprimir essa string (ou qualquer outro tipo de dado) na tela.\n",
        "\n",
        "Entretanto, a forma correta de se imprimir valores em um programa consiste no uso da função `print`."
      ]
    },
    {
      "cell_type": "code",
      "execution_count": null,
      "metadata": {
        "id": "_Uij2AXLcBaR",
        "outputId": "d9b4a39a-79dd-4995-b3c5-75f20b6d6003"
      },
      "outputs": [
        {
          "data": {
            "text/plain": [
              "'Frase 1'"
            ]
          },
          "execution_count": 10,
          "metadata": {},
          "output_type": "execute_result"
        }
      ],
      "source": [
        "# Nós podemos simplesmente declarar uma string\n",
        "'Frase 1'"
      ]
    },
    {
      "cell_type": "code",
      "execution_count": null,
      "metadata": {
        "id": "iuAVn7BAcBaR",
        "outputId": "daf9a584-bfd0-4cf6-b57c-6efd2d96205f"
      },
      "outputs": [
        {
          "data": {
            "text/plain": [
              "'Frase 2'"
            ]
          },
          "execution_count": 12,
          "metadata": {},
          "output_type": "execute_result"
        }
      ],
      "source": [
        "# Mas note que não podemos imprimir múltiplas strings na tela dessa forma\n",
        "'Frase 1'\n",
        "'Frase 2'"
      ]
    },
    {
      "cell_type": "code",
      "execution_count": null,
      "metadata": {
        "id": "UogGbaX2cBaS",
        "outputId": "694dcd6b-d19b-40fe-e772-0b9156d633cf"
      },
      "outputs": [
        {
          "name": "stdout",
          "output_type": "stream",
          "text": [
            "Frase 1\n",
            "Frase 2\n",
            "Frase 3\n",
            "Frase 4\n",
            "Frase 5\n",
            "Frase 6\n",
            "Frase 7\n",
            "Frase 8\n"
          ]
        }
      ],
      "source": [
        "# Com print, podemos imprimir quantas strings forem necessárias\n",
        "print('Frase 1')\n",
        "print('Frase 2')\n",
        "print('Frase 3')\n",
        "print('Frase 4')\n",
        "print('Frase 5')\n",
        "print('Frase 6')\n",
        "print('Frase 7')\n",
        "print('Frase 8')"
      ]
    },
    {
      "cell_type": "markdown",
      "metadata": {
        "id": "sUCPOlzvcBaS"
      },
      "source": [
        "**OBS:** O caractere '\\n' é usado para começar uma nova linha:"
      ]
    },
    {
      "cell_type": "code",
      "execution_count": null,
      "metadata": {
        "id": "cEd_yHaBcBaS",
        "outputId": "33a7a6b1-ec84-478b-92f7-f9b0b2344478"
      },
      "outputs": [
        {
          "name": "stdout",
          "output_type": "stream",
          "text": [
            "Use \n",
            " para imprimir uma nova linha\n",
            "\n",
            "\n",
            "Viu como funciona?\n"
          ]
        }
      ],
      "source": [
        "print('Use \\n para imprimir uma nova linha')\n",
        "print('\\n')\n",
        "print('Viu como funciona?')"
      ]
    },
    {
      "cell_type": "markdown",
      "metadata": {
        "id": "-w0i5yVkcBaT"
      },
      "source": [
        "### Operações matemáticas com strings"
      ]
    },
    {
      "cell_type": "markdown",
      "metadata": {
        "id": "p7bBZ-c4cBaT"
      },
      "source": [
        "Sim, por mais estranho que possa parecer, é possível usar algumas operações matemáticas com strings, mas o resultado é bem diferente do que acontece com números (integers e floats):"
      ]
    },
    {
      "cell_type": "code",
      "execution_count": null,
      "metadata": {
        "id": "U-4pweaecBaT",
        "outputId": "7f3e86b8-6a38-40eb-ffd0-fb95a0b70f7a"
      },
      "outputs": [
        {
          "data": {
            "text/plain": [
              "'Bananaébacana'"
            ]
          },
          "execution_count": 18,
          "metadata": {},
          "output_type": "execute_result"
        }
      ],
      "source": [
        "# Adição de strings\n",
        "'Banana' + 'é' + 'bacana'"
      ]
    },
    {
      "cell_type": "code",
      "execution_count": null,
      "metadata": {
        "id": "c-ZBC2lBcBaT",
        "outputId": "3c4767d5-74cf-4d94-db24-52f6391a8b7e"
      },
      "outputs": [
        {
          "data": {
            "text/plain": [
              "'PãoPãoPãoPãoPão'"
            ]
          },
          "execution_count": 19,
          "metadata": {},
          "output_type": "execute_result"
        }
      ],
      "source": [
        "# Multiplicação de strings\n",
        "'Pão'*5"
      ]
    },
    {
      "cell_type": "markdown",
      "metadata": {
        "id": "sUGisQ1pcBaU"
      },
      "source": [
        "A bioinformática se baseia na manipulação de informações em texto (ex: sequência de DNA). Logo, nos aprofundaremos na manipulação de strings em uma aula posterior."
      ]
    },
    {
      "cell_type": "markdown",
      "metadata": {
        "id": "5nYkbhS9cBaU"
      },
      "source": [
        "## Valores Booleanos - Verdadeiro ou falso"
      ]
    },
    {
      "cell_type": "markdown",
      "metadata": {
        "id": "JOQTdSf9cBaU"
      },
      "source": [
        "Basicamente, são valores que dizem se algo é verdadeiro ou falso. Possuem usos que ficarão mais claros posteriormente.\n",
        "\n",
        "Um possível uso dessas variáveis é checar se uma equação é verdadeira ou falsa:"
      ]
    },
    {
      "cell_type": "code",
      "execution_count": null,
      "metadata": {
        "id": "XckkvjehcBaV",
        "outputId": "ef206796-834e-4a06-b255-72756ee1187e"
      },
      "outputs": [
        {
          "ename": "SyntaxError",
          "evalue": "cannot assign to operator (<ipython-input-22-fd1257bf7599>, line 1)",
          "output_type": "error",
          "traceback": [
            "\u001b[0;36m  File \u001b[0;32m\"<ipython-input-22-fd1257bf7599>\"\u001b[0;36m, line \u001b[0;32m1\u001b[0m\n\u001b[0;31m    5 + 4 = 9\u001b[0m\n\u001b[0m    ^\u001b[0m\n\u001b[0;31mSyntaxError\u001b[0m\u001b[0;31m:\u001b[0m cannot assign to operator\n"
          ]
        }
      ],
      "source": [
        "5 + 4 = 9"
      ]
    },
    {
      "cell_type": "markdown",
      "metadata": {
        "id": "afihR7czcBaV"
      },
      "source": [
        "Ué, por que a equação deu um erro?\n",
        "\n",
        "No python, o sinal de igual `=` tem uma função específica, que veremos na próxima aula (variáveis).\n",
        "\n",
        "Em Python, temos dois **operadores de equalidade**:\n",
        "  - para verificar se dois valores são iguais entre si, usamos o operador `==`\n",
        "  - para verificar se dois valores são diferentes um do outro, usamos o operador `!=`"
      ]
    },
    {
      "cell_type": "code",
      "execution_count": null,
      "metadata": {
        "id": "kwZCdngPcBaV",
        "outputId": "c9f377d6-b6dc-4b15-816d-4a8d11137506"
      },
      "outputs": [
        {
          "data": {
            "text/plain": [
              "True"
            ]
          },
          "execution_count": 25,
          "metadata": {},
          "output_type": "execute_result"
        }
      ],
      "source": [
        "# Para checar se o termo da direita é igual ao da esquerda:\n",
        "5 + 4 == 9"
      ]
    },
    {
      "cell_type": "code",
      "execution_count": null,
      "metadata": {
        "id": "fcNCCk6OcBaV",
        "outputId": "13301227-7923-45fd-df2f-a33b01688be4"
      },
      "outputs": [
        {
          "data": {
            "text/plain": [
              "False"
            ]
          },
          "execution_count": 26,
          "metadata": {},
          "output_type": "execute_result"
        }
      ],
      "source": [
        "# Para checar se o termo da direita é diferente do da esquerda:\n",
        "5 + 4 != 9"
      ]
    },
    {
      "cell_type": "markdown",
      "metadata": {
        "id": "E2pV5qDUcBaW"
      },
      "source": [
        "Repare que o resultado das equações foi um valor booleano: True ou False\n",
        "\n",
        "Sempre que tivermos a comparação de valores por meio de `==` ou `!=`, o resultado será um valor booleano.\n",
        "\n",
        "Até aqui, usamos os operadores de equalidade para números inteiros, mas eles podem ser usados para basicamente qualquer tipo de dado em Python"
      ]
    },
    {
      "cell_type": "code",
      "execution_count": null,
      "metadata": {
        "id": "QBJaQimycBaW",
        "outputId": "3ce9f739-bb54-4a72-ba75-46a842e4fbb9"
      },
      "outputs": [
        {
          "name": "stdout",
          "output_type": "stream",
          "text": [
            "True\n",
            "True\n"
          ]
        }
      ],
      "source": [
        "print(5 + 5 != 13)\n",
        "print(4.5 * 2 == 9)"
      ]
    },
    {
      "cell_type": "code",
      "execution_count": null,
      "metadata": {
        "id": "mT3Q0Y1EcBaW",
        "outputId": "ddbc7c30-d0b7-4cbc-c845-7a3179ac438e"
      },
      "outputs": [
        {
          "name": "stdout",
          "output_type": "stream",
          "text": [
            "True\n",
            "False\n"
          ]
        }
      ],
      "source": [
        "print('banana' == 'banana')\n",
        "print('banana' == 'Banana')"
      ]
    },
    {
      "cell_type": "markdown",
      "metadata": {
        "id": "oSVnzEuycBaX"
      },
      "source": [
        "### Operadores comparativos\n",
        "\n",
        "`==` e `!=` são parte de uma classe maior de operadores chamados **operadores comparativos**, que retornam valores booleanos quando aplicados. Abaixo segue uma lista completa desses operadores:\n",
        "\n",
        "| Operador   |    Significado |\n",
        "| ---------  | ---------- |\n",
        "|    ==      |    Igualdade |\n",
        "|    !=      |    Desigualdade |\n",
        "|    >      |    Maior que |\n",
        "|    <      |    Menor que |\n",
        "|    >=      |    Maior ou igual a |\n",
        "|    <=      |    Menor ou igual a |"
      ]
    },
    {
      "cell_type": "code",
      "execution_count": null,
      "metadata": {
        "id": "EPOeGIq2cBaX",
        "outputId": "7580d146-b38a-4f6f-d969-481811045b85"
      },
      "outputs": [
        {
          "name": "stdout",
          "output_type": "stream",
          "text": [
            "False\n",
            "True\n",
            "True\n",
            "True\n"
          ]
        }
      ],
      "source": [
        "# Testando operadores comparativos:\n",
        "\n",
        "print(2 + 3 > 5)\n",
        "print(2 + 3 >= 5)\n",
        "print(2 + 2 < 5)\n",
        "print(2 + 2 <= 5)"
      ]
    },
    {
      "cell_type": "markdown",
      "metadata": {
        "id": "sahZyFp9cBaX"
      },
      "source": [
        "### Operadores booleanos: `and`, `or`, `not`"
      ]
    },
    {
      "cell_type": "markdown",
      "metadata": {
        "id": "rSVVBXK6cBaX"
      },
      "source": [
        "É possível combinar expressões booleanas (ou seja, expressões que retornem **True** ou **False** usando os operadores booleanos `and`, `or` e `not`.\n",
        "O resultado de operações booleanas é também um valor booleano. Os possíveis resultados de cada operação estão sumarizados na imagem abaixo:\n",
        "\n",
        "[![Operadores booleanos](https://github.com/Rubenscn/curso_programacao/blob/master/imagens/boolean_operators.png?raw=1)](https://www.experts-exchange.com/articles/32530/Boolean-in-Python.html)\n",
        "\n",
        "Ou seja:\n",
        "  - Operações com **AND** retornam verdadeiro apenas quando AMBAS as expressões são verdadeiras\n",
        "  - Operações com **OR** retornam falso apenas quando AMBAS as expressões são falsas\n",
        "  - **NOT** inverte o valor booleano da expressão\n",
        "  \n",
        "Vamos ver alguns exemplos:"
      ]
    },
    {
      "cell_type": "code",
      "execution_count": null,
      "metadata": {
        "id": "U5e_wpGacBaY",
        "outputId": "8a7f592d-0de3-408c-e89f-e86faa356126"
      },
      "outputs": [
        {
          "name": "stdout",
          "output_type": "stream",
          "text": [
            "False False\n",
            "True True\n"
          ]
        }
      ],
      "source": [
        "# Definindo equações:\n",
        "\n",
        "eq_falsa1 = 2 + 3 == 1024\n",
        "eq_falsa2 = 22 + 33 == 1024\n",
        "print(eq_falsa1, eq_falsa2)\n",
        "\n",
        "eq_verd1 = 2 + 3 == 5\n",
        "eq_verd2 = 20 + 30 == 50\n",
        "print(eq_verd1, eq_verd2)"
      ]
    },
    {
      "cell_type": "code",
      "execution_count": null,
      "metadata": {
        "id": "zvQND7JycBaY",
        "outputId": "3a92222c-5700-4f92-dfbe-bf6a8747eb44"
      },
      "outputs": [
        {
          "name": "stdout",
          "output_type": "stream",
          "text": [
            "False and False False\n",
            "True and false: False\n",
            "False and True: False\n",
            "True and True: True\n"
          ]
        }
      ],
      "source": [
        "# Realizando operacões booleanas - AND\n",
        "\n",
        "print(\"False and False\", eq_falsa1 and eq_falsa2)\n",
        "print(\"True and false:\", eq_verd1 and eq_falsa1)\n",
        "print(\"False and True:\", eq_falsa1 and eq_verd1)\n",
        "print(\"True and True:\", eq_verd1 and eq_verd2)"
      ]
    },
    {
      "cell_type": "code",
      "execution_count": null,
      "metadata": {
        "id": "NoqQEGticBaZ",
        "outputId": "ca4938e6-da94-4517-8238-1bc57739d4ed"
      },
      "outputs": [
        {
          "name": "stdout",
          "output_type": "stream",
          "text": [
            "False or False False\n",
            "True or false: True\n",
            "False or True: True\n",
            "True or True: True\n"
          ]
        }
      ],
      "source": [
        "# Realizando operacões booleanas - OR\n",
        "\n",
        "print(\"False or False\", eq_falsa1 or eq_falsa2)\n",
        "print(\"True or false:\", eq_verd1 or eq_falsa1)\n",
        "print(\"False or True:\", eq_falsa1 or eq_verd1)\n",
        "print(\"True or True:\", eq_verd1 or eq_verd2)"
      ]
    },
    {
      "cell_type": "code",
      "execution_count": null,
      "metadata": {
        "id": "N4GE5iEccBaZ",
        "outputId": "6f9cbba8-9d2f-4aa5-e993-f8981f5c7197"
      },
      "outputs": [
        {
          "name": "stdout",
          "output_type": "stream",
          "text": [
            "not True: False\n",
            "not False: True\n"
          ]
        }
      ],
      "source": [
        "# Operações booleanas - NOT\n",
        "\n",
        "print(\"not True:\", not eq_verd1)\n",
        "print(\"not False:\", not eq_falsa1)"
      ]
    },
    {
      "cell_type": "code",
      "execution_count": null,
      "metadata": {
        "id": "7s4PH1DKcBaa",
        "outputId": "6a7d1779-eae5-4aeb-bfe8-04a780de98a1"
      },
      "outputs": [
        {
          "data": {
            "text/plain": [
              "False"
            ]
          },
          "execution_count": 23,
          "metadata": {},
          "output_type": "execute_result"
        }
      ],
      "source": [
        "# Podemos também fazer múltiplas operações\n",
        "\n",
        "eq_verd1 and not eq_verd2 or not eq_falsa1 and eq_falsa2"
      ]
    },
    {
      "cell_type": "markdown",
      "metadata": {
        "id": "gszlQMs2cBaa"
      },
      "source": [
        "Meio difícil de entender quanto tem várias operações booleanas, certo?\n",
        "\n",
        "Os operadores booleanos, assim como os operadores matemáticos, possuem uma ordem de precedência.\n",
        "\n",
        "A ordem segue a sigla **PNAO**:\n",
        "  - **P** parênteses, daí\n",
        "  - **N** not, daí\n",
        "  - **A** and, daí\n",
        "  - **O** or\n",
        "  \n",
        "Sabendo disso, podemos reescrever o conjunto de operadores booleanos acima de forma mais legível usando parênteses:"
      ]
    },
    {
      "cell_type": "code",
      "execution_count": null,
      "metadata": {
        "id": "GEoizSWdcBaa"
      },
      "outputs": [],
      "source": [
        "# Reescrevendo usando parênteses\n",
        "\n",
        "(eq_verd1 and (not eq_verd2)) or ((not eq_falsa1) and eq_falsa2)"
      ]
    },
    {
      "cell_type": "markdown",
      "metadata": {
        "id": "YTo3WlM_cBab"
      },
      "source": [
        "Mudando o posicionamento dos parênteses, mudamos também a ordem das operações e podemos também mudar o resultado:"
      ]
    },
    {
      "cell_type": "code",
      "execution_count": null,
      "metadata": {
        "id": "vnDC1tU_cBab",
        "outputId": "2daed32c-5f21-4962-f908-0dc9c4962049"
      },
      "outputs": [
        {
          "data": {
            "text/plain": [
              "True"
            ]
          },
          "execution_count": 27,
          "metadata": {},
          "output_type": "execute_result"
        }
      ],
      "source": [
        "# Mudando a ordem das operações\n",
        "\n",
        "eq_verd1 and not eq_verd2 or not (eq_falsa1 and eq_falsa2)"
      ]
    },
    {
      "cell_type": "markdown",
      "metadata": {
        "id": "8snDaobHcBab"
      },
      "source": [
        "Isso é o bastante (por enquanto) sobre tipos de dados em python.\n",
        "\n",
        "Entretanto, já pensou o quão chato é ter que ficar repetindo um valor o tempo todo, especialmente se você estiver trabalhando com vários valores ao mesmo tempo (o que é geralmente o caso)?\n",
        "\n",
        "Na próxima aula, vamos aprender como 'nomear' valores usando **variáveis** e usar esses nomes para chamar esses valores quando for necessário ou conveniente."
      ]
    }
  ],
  "metadata": {
    "kernelspec": {
      "display_name": "Python 3",
      "language": "python",
      "name": "python3"
    },
    "language_info": {
      "codemirror_mode": {
        "name": "ipython",
        "version": 3
      },
      "file_extension": ".py",
      "mimetype": "text/x-python",
      "name": "python",
      "nbconvert_exporter": "python",
      "pygments_lexer": "ipython3",
      "version": "3.8.3"
    },
    "colab": {
      "provenance": []
    }
  },
  "nbformat": 4,
  "nbformat_minor": 0
}